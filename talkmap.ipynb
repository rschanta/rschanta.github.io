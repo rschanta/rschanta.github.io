{
 "cells": [
  {
   "cell_type": "markdown",
   "metadata": {},
   "source": [
    "# Leaflet cluster map of talk locations\n",
    "\n",
    "Assuming you are working in a Linux or Windows Subsystem for Linux environment, you may need to install some dependencies. Assuming a clean installation, the following will be needed:\n",
    "\n",
    "```bash\n",
    "sudo apt install jupyter\n",
    "sudo apt install python3-pip\n",
    "pip install python-frontmatter getorg --upgrade\n",
    "```\n",
    "\n",
    "After which you can run this from the `_talks/` directory, via:\n",
    "\n",
    "```bash\n",
    " jupyter nbconvert --to notebook --execute talkmap.ipynb --output talkmap_out.ipynb\n",
    "```\n",
    " \n",
    "The `_talks/` directory contains `.md` files of all your talks. This scrapes the location YAML field from each `.md` file, geolocates it with `geopy/Nominatim`, and uses the `getorg` library to output data, HTML, and Javascript for a standalone cluster map."
   ]
  },
  {
   "cell_type": "code",
   "execution_count": 1,
   "metadata": {
    "collapsed": false
   },
   "outputs": [
    {
     "name": "stdout",
     "output_type": "stream",
     "text": [
      "Collecting python-frontmatter\n",
      "  Downloading python_frontmatter-1.1.0-py3-none-any.whl.metadata (4.1 kB)\n",
      "Collecting getorg\n",
      "  Downloading getorg-0.3.1-py2.py3-none-any.whl.metadata (326 bytes)\n",
      "Requirement already satisfied: PyYAML in c:\\users\\rschanta\\appdata\\roaming\\python\\python312\\site-packages (from python-frontmatter) (6.0.1)\n",
      "Requirement already satisfied: geopy in c:\\users\\rschanta\\appdata\\local\\anaconda3\\lib\\site-packages (from getorg) (2.4.1)\n",
      "Collecting pygithub (from getorg)\n",
      "  Downloading PyGithub-2.6.1-py3-none-any.whl.metadata (3.9 kB)\n",
      "Collecting retrying (from getorg)\n",
      "  Downloading retrying-1.4.1-py3-none-any.whl.metadata (7.5 kB)\n",
      "Requirement already satisfied: geographiclib<3,>=1.52 in c:\\users\\rschanta\\appdata\\local\\anaconda3\\lib\\site-packages (from geopy->getorg) (2.0)\n",
      "Requirement already satisfied: pynacl>=1.4.0 in c:\\users\\rschanta\\appdata\\local\\anaconda3\\lib\\site-packages (from pygithub->getorg) (1.5.0)\n",
      "Requirement already satisfied: requests>=2.14.0 in c:\\users\\rschanta\\appdata\\local\\anaconda3\\lib\\site-packages (from pygithub->getorg) (2.32.2)\n",
      "Requirement already satisfied: pyjwt>=2.4.0 in c:\\users\\rschanta\\appdata\\local\\anaconda3\\lib\\site-packages (from pyjwt[crypto]>=2.4.0->pygithub->getorg) (2.8.0)\n",
      "Requirement already satisfied: typing-extensions>=4.0.0 in c:\\users\\rschanta\\appdata\\local\\anaconda3\\lib\\site-packages (from pygithub->getorg) (4.12.2)\n",
      "Requirement already satisfied: urllib3>=1.26.0 in c:\\users\\rschanta\\appdata\\local\\anaconda3\\lib\\site-packages (from pygithub->getorg) (2.2.2)\n",
      "Collecting Deprecated (from pygithub->getorg)\n",
      "  Downloading Deprecated-1.2.18-py2.py3-none-any.whl.metadata (5.7 kB)\n",
      "Requirement already satisfied: cryptography>=3.4.0 in c:\\users\\rschanta\\appdata\\local\\anaconda3\\lib\\site-packages (from pyjwt[crypto]>=2.4.0->pygithub->getorg) (42.0.5)\n",
      "Requirement already satisfied: cffi>=1.4.1 in c:\\users\\rschanta\\appdata\\roaming\\python\\python312\\site-packages (from pynacl>=1.4.0->pygithub->getorg) (1.16.0)\n",
      "Requirement already satisfied: charset-normalizer<4,>=2 in c:\\users\\rschanta\\appdata\\local\\anaconda3\\lib\\site-packages (from requests>=2.14.0->pygithub->getorg) (3.4.1)\n",
      "Requirement already satisfied: idna<4,>=2.5 in c:\\users\\rschanta\\appdata\\local\\anaconda3\\lib\\site-packages (from requests>=2.14.0->pygithub->getorg) (3.7)\n",
      "Requirement already satisfied: certifi>=2017.4.17 in c:\\users\\rschanta\\appdata\\local\\anaconda3\\lib\\site-packages (from requests>=2.14.0->pygithub->getorg) (2024.7.4)\n",
      "Requirement already satisfied: wrapt<2,>=1.10 in c:\\users\\rschanta\\appdata\\local\\anaconda3\\lib\\site-packages (from Deprecated->pygithub->getorg) (1.17.2)\n",
      "Requirement already satisfied: pycparser in c:\\users\\rschanta\\appdata\\roaming\\python\\python312\\site-packages (from cffi>=1.4.1->pynacl>=1.4.0->pygithub->getorg) (2.22)\n",
      "Downloading python_frontmatter-1.1.0-py3-none-any.whl (9.8 kB)\n",
      "Downloading getorg-0.3.1-py2.py3-none-any.whl (39 kB)\n",
      "Downloading PyGithub-2.6.1-py3-none-any.whl (410 kB)\n",
      "   ---------------------------------------- 0.0/410.5 kB ? eta -:--:--\n",
      "   ------------------------------------- -- 389.1/410.5 kB 8.1 MB/s eta 0:00:01\n",
      "   ---------------------------------------- 410.5/410.5 kB 6.5 MB/s eta 0:00:00\n",
      "Downloading retrying-1.4.1-py3-none-any.whl (12 kB)\n",
      "Downloading Deprecated-1.2.18-py2.py3-none-any.whl (10.0 kB)\n",
      "Installing collected packages: retrying, python-frontmatter, Deprecated, pygithub, getorg\n",
      "Successfully installed Deprecated-1.2.18 getorg-0.3.1 pygithub-2.6.1 python-frontmatter-1.1.0 retrying-1.4.1\n",
      "Iywidgets and ipyleaflet support disabled. You must be in a Jupyter notebook to use this feature.\n",
      "Error raised:\n",
      "No module named 'ipyleaflet'\n",
      "Check that you have enabled ipyleaflet in Jupyter with:\n",
      "    jupyter nbextension enable --py ipyleaflet\n"
     ]
    }
   ],
   "source": [
    "# Start by installing the dependencies\n",
    "!pip install python-frontmatter getorg --upgrade\n",
    "import frontmatter\n",
    "import glob\n",
    "import getorg\n",
    "from geopy import Nominatim\n",
    "from geopy.exc import GeocoderTimedOut"
   ]
  },
  {
   "cell_type": "code",
   "execution_count": 2,
   "metadata": {
    "collapsed": false
   },
   "outputs": [],
   "source": [
    "# Collect the Markdown files\n",
    "g = glob.glob(\"_talks/*.md\")"
   ]
  },
  {
   "cell_type": "code",
   "execution_count": 3,
   "metadata": {
    "collapsed": true
   },
   "outputs": [],
   "source": [
    "# Set the default timeout, in seconds\n",
    "TIMEOUT = 5\n",
    "\n",
    "# Prepare to geolocate\n",
    "geocoder = Nominatim(user_agent=\"academicpages.github.io\")\n",
    "location_dict = {}\n",
    "location = \"\"\n",
    "permalink = \"\"\n",
    "title = \"\""
   ]
  },
  {
   "cell_type": "markdown",
   "metadata": {},
   "source": [
    "In the event that this times out with an error, double check to make sure that the location is can be properly geolocated."
   ]
  },
  {
   "cell_type": "code",
   "execution_count": 4,
   "metadata": {
    "collapsed": false
   },
   "outputs": [
    {
     "name": "stdout",
     "output_type": "stream",
     "text": [
      "Talk 1 on Relevant Topic in Your Field<br />UC San Francisco, Department of Testing; San Francisco, CA, USA San Francisco, California, United States\n",
      "Tutorial 1 on Relevant Topic in Your Field<br />UC-Berkeley Institute for Testing Science; Berkeley, CA, USA Berkeley, Alameda County, California, United States\n",
      "Talk 2 on Relevant Topic in Your Field<br />London School of Testing; London, UK London, Greater London, England, United Kingdom\n",
      "Conference Proceeding talk 3 on Relevant Topic in Your Field<br />Testing Institute of America 2014 Annual Conference; Los Angeles, CA, USA Los Angeles, Los Angeles County, California, United States\n"
     ]
    }
   ],
   "source": [
    "# Perform geolocation\n",
    "for file in g:\n",
    "    # Read the file\n",
    "    data = frontmatter.load(file)\n",
    "    data = data.to_dict()\n",
    "\n",
    "    # Press on if the location is not present\n",
    "    if 'location' not in data:\n",
    "        continue\n",
    "\n",
    "    # Prepare the description\n",
    "    title = data['title'].strip()\n",
    "    venue = data['venue'].strip()\n",
    "    location = data['location'].strip()\n",
    "    description = f\"{title}<br />{venue}; {location}\"\n",
    "\n",
    "    # Geocode the location and report the status\n",
    "    try:\n",
    "        location_dict[description] = geocoder.geocode(location, timeout=TIMEOUT)\n",
    "        print(description, location_dict[description])\n",
    "    except ValueError as ex:\n",
    "        print(f\"Error: geocode failed on input {location} with message {ex}\")\n",
    "    except GeocoderTimedOut as ex:\n",
    "        print(f\"Error: geocode timed out on input {location} with message {ex}\")\n",
    "    except Exception as ex:\n",
    "        print(f\"An unhandled exception occurred while processing input {location} with message {ex}\")"
   ]
  },
  {
   "cell_type": "code",
   "execution_count": 5,
   "metadata": {
    "collapsed": false
   },
   "outputs": [
    {
     "data": {
      "text/plain": [
       "'Written map to talkmap/'"
      ]
     },
     "execution_count": 5,
     "metadata": {},
     "output_type": "execute_result"
    }
   ],
   "source": [
    "# Save the map\n",
    "m = getorg.orgmap.create_map_obj()\n",
    "getorg.orgmap.output_html_cluster_map(location_dict, folder_name=\"talkmap\", hashed_usernames=False)"
   ]
  },
  {
   "cell_type": "code",
   "execution_count": null,
   "metadata": {
    "collapsed": true
   },
   "outputs": [],
   "source": []
  }
 ],
 "metadata": {
  "anaconda-cloud": {},
  "kernelspec": {
   "display_name": "base",
   "language": "python",
   "name": "python3"
  },
  "language_info": {
   "codemirror_mode": {
    "name": "ipython",
    "version": 3
   },
   "file_extension": ".py",
   "mimetype": "text/x-python",
   "name": "python",
   "nbconvert_exporter": "python",
   "pygments_lexer": "ipython3",
   "version": "3.12.3"
  }
 },
 "nbformat": 4,
 "nbformat_minor": 0
}
